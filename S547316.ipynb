{
 "cells": [
  {
   "cell_type": "markdown",
   "id": "10929f63-fa70-4468-ba69-23382984ec8b",
   "metadata": {},
   "source": [
    "Brendi Kargel"
   ]
  },
  {
   "cell_type": "code",
   "execution_count": 22,
   "id": "4a906e15-7523-40e6-880f-6a9c0885a4d8",
   "metadata": {},
   "outputs": [
    {
     "name": "stdout",
     "output_type": "stream",
     "text": [
      "*      *\n",
      "**    **\n",
      "***  ***\n",
      "********\n"
     ]
    }
   ],
   "source": [
    "for row in range(0,4):        \n",
    "    for column in range(0,8):             \n",
    "        if (column == 0 or column == 7) or ((column == 1 or column == 6) and (row == 1 or row == 2 or row == 3)) or ((\n",
    "            column == 2 or column == 5) and row == 2) or row == 3:             \n",
    "            print(\"*\",end=\"\")        \n",
    "        else:            \n",
    "            print(end=\" \")    \n",
    "    print()\n"
   ]
  },
  {
   "cell_type": "code",
   "execution_count": null,
   "id": "7c46f8e6-6c59-43ff-941c-ca5fcc557519",
   "metadata": {},
   "outputs": [],
   "source": []
  }
 ],
 "metadata": {
  "kernelspec": {
   "display_name": "Python 3 (ipykernel)",
   "language": "python",
   "name": "python3"
  },
  "language_info": {
   "codemirror_mode": {
    "name": "ipython",
    "version": 3
   },
   "file_extension": ".py",
   "mimetype": "text/x-python",
   "name": "python",
   "nbconvert_exporter": "python",
   "pygments_lexer": "ipython3",
   "version": "3.9.12"
  }
 },
 "nbformat": 4,
 "nbformat_minor": 5
}
